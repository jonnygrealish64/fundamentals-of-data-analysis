{
 "cells": [
  {
   "cell_type": "code",
   "execution_count": null,
   "id": "0bea07f1",
   "metadata": {},
   "outputs": [],
   "source": [
    "import requests as rq # module to import HTTP requests\n",
    "import re # module for regular expressions\n",
    "import datetime as dt # module to add date & time\n",
    "import pandas as pd # module to facilitate dataframes\n",
    "import urllib.request as urlrq # module to download data from URLs\n",
    "\n",
    "now = dt.datetime.now() # retrieve the current date and time\n",
    "nowstr = now.strftime('%d/%m/%y %H:%M:%S') # format dt as a string\n",
    "print(nowstr) # print the current date and time"
   ]
  },
  {
   "cell_type": "code",
   "execution_count": null,
   "id": "114d0719",
   "metadata": {},
   "outputs": [],
   "source": [
    "# Retrieving CAO Points for 2021\n",
    "resp = rq.get('http://www2.cao.ie/points/l8.php') # requesting URL\n",
    "resp"
   ]
  },
  {
   "cell_type": "code",
   "execution_count": null,
   "id": "4e08159e",
   "metadata": {},
   "outputs": [],
   "source": [
    "# Saving the original data set\n",
    "pathhtml = 'data/cao2021_' + nowstr + '.html'\n",
    "original_encoding = resp.encoding\n",
    "resp.encoding = 'cp1252'\n",
    "with open(pathhtml, 'w') as f:\n",
    "    f.write(resp.text)"
   ]
  }
 ],
 "metadata": {
  "kernelspec": {
   "display_name": "Python 3",
   "language": "python",
   "name": "python3"
  },
  "language_info": {
   "codemirror_mode": {
    "name": "ipython",
    "version": 3
   },
   "file_extension": ".py",
   "mimetype": "text/x-python",
   "name": "python",
   "nbconvert_exporter": "python",
   "pygments_lexer": "ipython3",
   "version": "3.8.8"
  }
 },
 "nbformat": 4,
 "nbformat_minor": 5
}
