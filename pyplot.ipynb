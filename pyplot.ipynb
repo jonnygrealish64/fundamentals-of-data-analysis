{
 "cells": [
  {
   "cell_type": "code",
   "execution_count": null,
   "id": "a8b70102",
   "metadata": {},
   "outputs": [],
   "source": [
    "import numpy as np\n",
    "import matplotlib.pyplot as plt\n",
    "x = np.arange(0, 10, 0.5)\n",
    "y = np.sin(x)\n",
    "plt.plot(x,y)"
   ]
  },
  {
   "cell_type": "code",
   "execution_count": null,
   "id": "81e057f0",
   "metadata": {},
   "outputs": [],
   "source": [
    "import numpy as np\n",
    "import matplotlib.pyplot as plt\n",
    "%matplotlib inline\n",
    "\n",
    "x = np.arange(0, 10) # setting range of x-axis\n",
    "y = np.arange(0, 10) # setting range of y-axis\n",
    "\n",
    "X, Y = np.meshgrid(x, y) # grid will take in the ranges of x & y\n",
    "u = np.ones((10, 10)) # x-velocity flows horizontally to the right\n",
    "v = np.zeros((10, 10)) # y-velocity set to zero, no flow\n",
    "\n",
    "fig, ax = plt.subplots() # define figure as variable with access to subplots\n",
    "\n",
    "ax.streamplot(X, Y, u, v, density = 0.5)\n",
    "ax.set_title('Streamplot of Parallel Horizontal Lines')\n",
    "plt.show()"
   ]
  }
 ],
 "metadata": {
  "kernelspec": {
   "display_name": "Python 3",
   "language": "python",
   "name": "python3"
  },
  "language_info": {
   "codemirror_mode": {
    "name": "ipython",
    "version": 3
   },
   "file_extension": ".py",
   "mimetype": "text/x-python",
   "name": "python",
   "nbconvert_exporter": "python",
   "pygments_lexer": "ipython3",
   "version": "3.8.8"
  }
 },
 "nbformat": 4,
 "nbformat_minor": 5
}
