{
 "cells": [
  {
   "cell_type": "code",
   "execution_count": 1,
   "id": "aab45afa",
   "metadata": {},
   "outputs": [],
   "source": [
    "einstein = True\n",
    "monty = False\n",
    "savant = False"
   ]
  },
  {
   "cell_type": "code",
   "execution_count": 2,
   "id": "51f60bb0",
   "metadata": {},
   "outputs": [
    {
     "name": "stdout",
     "output_type": "stream",
     "text": [
      "Quick Check 1: everything is running okay, please continue.\n"
     ]
    }
   ],
   "source": [
    "# Assume everything is running okay.\n",
    "aok = True\n",
    "\n",
    "# Make sure the einstein variable is set to True or False.\n",
    "try:\n",
    "    if einstein not in [True, False]:\n",
    "        print(\"Error: please set the einstein variable to either True or False!\")\n",
    "        aok = False\n",
    "except NameError:\n",
    "    print(\"Error: please set the einstein variable to either True or False!\")\n",
    "    aok = False\n",
    "\n",
    "# Make sure the monty variable is set to True or False.\n",
    "try:\n",
    "    if monty not in [True, False]:\n",
    "        print(\"Error: please set the monty variable to either True or False!\")\n",
    "        aok = False\n",
    "except NameError:\n",
    "    print(\"Error: please set the monty variable to either True or False!\")\n",
    "    aok = False\n",
    "\n",
    "# Make sure the savant variable is set to True or False.\n",
    "try:\n",
    "    if savant not in [True, False]:\n",
    "        print(\"Error: please set the savant variable to either True or False!\")\n",
    "        aok = False\n",
    "except NameError:\n",
    "    print(\"Error: please set the savant variable to either True or False!\")\n",
    "    aok = False\n",
    "\n",
    "# If there are no problems, print a statement to continue.\n",
    "if aok:\n",
    "    print(\"Quick Check 1: everything is running okay, please continue.\")"
   ]
  },
  {
   "cell_type": "code",
   "execution_count": 3,
   "id": "d0e0c865",
   "metadata": {},
   "outputs": [
    {
     "name": "stdout",
     "output_type": "stream",
     "text": [
      "From Python: I've randomly selected a door to put the car behind.\n"
     ]
    }
   ],
   "source": [
    "# Python provides a library called random to generate pseudo-random numbers.\n",
    "import random\n",
    "\n",
    "# The three doors in a list.\n",
    "doors = ['red', 'green', 'blue']\n",
    "\n",
    "# Pick a random door.\n",
    "car = random.choice(doors)\n",
    "\n",
    "# Tell the user we've picked.\n",
    "print(\"From Python: I've randomly selected a door to put the car behind.\")"
   ]
  },
  {
   "cell_type": "code",
   "execution_count": 4,
   "id": "1e81fe2d",
   "metadata": {},
   "outputs": [],
   "source": [
    "# Pick one of three doors: 'red', 'green' or 'blue'.\n",
    "pick = 'red'"
   ]
  },
  {
   "cell_type": "code",
   "execution_count": 5,
   "id": "e9f3054c",
   "metadata": {},
   "outputs": [
    {
     "name": "stdout",
     "output_type": "stream",
     "text": [
      "Quick Check 2: everything is running okay, please continue.\n"
     ]
    }
   ],
   "source": [
    "# Assume everything is running okay.\n",
    "aok = True\n",
    "\n",
    "# Make sure car is set to a door.\n",
    "try:\n",
    "    if car not in doors:\n",
    "        print(\"Error: please set the car variable to one of 'red', 'green' or 'blue'!\")\n",
    "        aok = False\n",
    "except NameError:\n",
    "    print(\"Error: please set the car variable to one of 'red', 'green' or 'blue'!\")\n",
    "    aok = False\n",
    "\n",
    "# Make sure pick is set to a door.\n",
    "try:\n",
    "    if pick not in doors:\n",
    "        print(\"Error: please set the pick variable to one of 'red', 'green' or 'blue'!\")\n",
    "        aok = False\n",
    "except NameError:\n",
    "    print(\"Error: please set the pick variable to one of 'red', 'green' or 'blue'!\")\n",
    "    aok = False\n",
    "\n",
    "# If there are no problems, print a statement to continue.\n",
    "if aok:\n",
    "    print(\"Quick Check 2: everything is running okay, please continue.\")"
   ]
  },
  {
   "cell_type": "code",
   "execution_count": 6,
   "id": "c8fc7b28",
   "metadata": {},
   "outputs": [
    {
     "name": "stdout",
     "output_type": "stream",
     "text": [
      "\n",
      "Host:\n",
      "\n",
      "You chose the red door. The producers have told me I can reveal to you that there is a goat behind the blue door.\n",
      "My question to you now is this: do you want to stick with the red door or do you want to switch to the green door?\n",
      "\n"
     ]
    }
   ],
   "source": [
    "# Pick a random door that was neither picked by the contestant nor has the car behind it.\n",
    "show = random.choice([door for door in doors if door != car and door != pick])\n",
    "\n",
    "# Figure out which door was not opened or picked.\n",
    "notopen = [door for door in doors if door != pick and door != show][0]\n",
    "\n",
    "# What the host says.\n",
    "print(\"\\nHost:\")\n",
    "print(f\"\"\"\n",
    "You chose the {pick} door. The producers have told me I can reveal to you that there is a goat behind the {show} door.\n",
    "My question to you now is this: do you want to stick with the {pick} door or do you want to switch to the {notopen} door?\n",
    "\"\"\")"
   ]
  },
  {
   "cell_type": "code",
   "execution_count": 7,
   "id": "b3c04988",
   "metadata": {},
   "outputs": [],
   "source": [
    "# You want to stay with your current door: True or False?\n",
    "stay = True"
   ]
  },
  {
   "cell_type": "code",
   "execution_count": 8,
   "id": "bf693634",
   "metadata": {},
   "outputs": [
    {
     "name": "stdout",
     "output_type": "stream",
     "text": [
      "Quick Check 3: everything is running okay, please continue.\n"
     ]
    }
   ],
   "source": [
    "# Assume everything is running okay.\n",
    "aok = True\n",
    "\n",
    "# Make sure the stay variable is set to True or False.\n",
    "try:\n",
    "    if stay not in [True, False]:\n",
    "        print(\"Error: please set the stay variable to either True or False!\")\n",
    "        aok = False\n",
    "except NameError:\n",
    "    print(\"Error: please set the stay variable to either True or False!\")\n",
    "    aok = False\n",
    "\n",
    "# If there are no problems, print a statement to continue.\n",
    "if aok:\n",
    "    print(\"Quick Check 3: everything is running okay, please continue.\")"
   ]
  },
  {
   "cell_type": "code",
   "execution_count": 9,
   "id": "07291d32",
   "metadata": {},
   "outputs": [
    {
     "name": "stdout",
     "output_type": "stream",
     "text": [
      "\n",
      "Host:\n",
      "\n",
      "You originally picked the red door and I showed you there was a goat behind the blue door.\n",
      "I asked you if you wanted to stay with the red door or change to the green door.\n",
      "You decided to stay.\n",
      "I can now reveal to you that the car was behind the green door.\n",
      "You have not won.\n",
      "\n"
     ]
    }
   ],
   "source": [
    "# Tell the user which door was opened by the host.\n",
    "print()\n",
    "print(\"Host:\")\n",
    "print(f\"\"\"\n",
    "You originally picked the {pick} door and I showed you there was a goat behind the {show} door.\n",
    "I asked you if you wanted to stay with the {pick} door or change to the {notopen} door.\n",
    "You decided to {'stay' if stay else 'change'}.\n",
    "I can now reveal to you that the car was behind the {car} door.\n",
    "You have {'won' if car == [pick, notopen][not stay] else 'not won'}.\n",
    "\"\"\")"
   ]
  },
  {
   "cell_type": "code",
   "execution_count": 10,
   "id": "7ca91917",
   "metadata": {},
   "outputs": [
    {
     "name": "stdout",
     "output_type": "stream",
     "text": [
      "Please copy and paste the following output into the textbox on form:\n",
      "\n",
      "True,False,False,green,red,True\n"
     ]
    }
   ],
   "source": [
    "print(\"Please copy and paste the following output into the textbox on form:\")\n",
    "print()\n",
    "print(f\"{einstein},{monty},{savant},{car},{pick},{stay}\")"
   ]
  },
  {
   "cell_type": "code",
   "execution_count": null,
   "id": "a9bb8b04",
   "metadata": {},
   "outputs": [],
   "source": []
  }
 ],
 "metadata": {
  "kernelspec": {
   "display_name": "Python 3",
   "language": "python",
   "name": "python3"
  },
  "language_info": {
   "codemirror_mode": {
    "name": "ipython",
    "version": 3
   },
   "file_extension": ".py",
   "mimetype": "text/x-python",
   "name": "python",
   "nbconvert_exporter": "python",
   "pygments_lexer": "ipython3",
   "version": "3.8.8"
  }
 },
 "nbformat": 4,
 "nbformat_minor": 5
}
