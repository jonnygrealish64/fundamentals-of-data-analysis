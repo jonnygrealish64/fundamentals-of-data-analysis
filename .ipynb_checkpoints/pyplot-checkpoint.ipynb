{
 "cells": [
  {
   "cell_type": "code",
   "execution_count": null,
   "id": "a8b70102",
   "metadata": {},
   "outputs": [],
   "source": [
    "# Basics of setting up Matplotlib in Python\n",
    "import numpy as np\n",
    "import matplotlib.pyplot as plt\n",
    "x = np.arange(0, 10, 0.5)\n",
    "y = np.sin(x)\n",
    "plt.plot(x, y)"
   ]
  },
  {
   "cell_type": "code",
   "execution_count": 3,
   "id": "81e057f0",
   "metadata": {},
   "outputs": [
    {
     "data": {
      "image/png": "[encoded data removed]",
      "text/plain": [
       "<Figure size 432x288 with 1 Axes>"
      ]
     },
     "metadata": {
      "needs_background": "light"
     },
     "output_type": "display_data"
    }
   ],
   "source": [
    "# 1: Streamplot\n",
    "import numpy as np\n",
    "import matplotlib.pyplot as plt\n",
    "%matplotlib inline\n",
    "\n",
    "x = np.arange(0, 10) # setting range of x-axis\n",
    "y = np.arange(0, 10) # setting range of y-axis\n",
    "\n",
    "X, Y = np.meshgrid(x, y) # grid will take in the ranges of x & y\n",
    "u = np.ones((10, 10)) # x-velocity flows horizontally to the right\n",
    "v = np.zeros((10, 10)) # y-velocity set to zero, no flow\n",
    "\n",
    "fig, ax = plt.subplots() # defining figure & axes\n",
    "\n",
    "ax.streamplot(X, Y, u, v, density = 0.5, color = \"green\")\n",
    "ax.set_title('Streamplot of Parallel Horizontal Lines')\n",
    "plt.show()"
   ]
  },
  {
   "cell_type": "code",
   "execution_count": null,
   "id": "8b99bca7",
   "metadata": {},
   "outputs": [],
   "source": [
    "# 2: Pie Chart\n",
    "import numpy as np\n",
    "import matplotlib.pyplot as plt\n",
    "%matplotlib inline\n",
    "\n",
    "fig = plt.figure() # defining figure\n",
    "ax = fig.add_axes([0, 0, 1, 2])\n",
    "ax.axis('equal')\n",
    "\n",
    "foodies = [12, 10, 45, 8, 25]\n",
    "foodlabels = ['Curry', 'Burger', 'Pizza', 'Sushi', 'Burrito']\n",
    "foodcolors = [\"Orange\", \"Yellow\", \"Red\", \"Pink\", \"Brown\"]\n",
    "boom = [0, 0, 0.2, 0, 0]\n",
    "ax.pie(foodies, labels = foodlabels, colors = foodcolors, explode = boom, startangle = 90, autopct = '%1.1f%%', shadow = True)\n",
    "plt.legend(title = \"Five Popular Fast Foods :P\")\n",
    "plt.show()"
   ]
  },
  {
   "cell_type": "code",
   "execution_count": null,
   "id": "3e42509c",
   "metadata": {},
   "outputs": [],
   "source": [
    "# 3: Table with Custom Values\n",
    "import numpy as np\n",
    "import matplotlib.pyplot as plt\n",
    "%matplotlib inline\n",
    "\n",
    "fig, ax = plt.subplots(1, 1) # defining figure & axes\n",
    "\n",
    "table_data = [\n",
    "              [10, 24, 37],\n",
    "              [55, 69, 76],\n",
    "              [84, 96, 108]\n",
    "             ]\n",
    "\n",
    "column_labels = [\"Column 1\", \"Column 2\", \"Column 3\"]\n",
    "ax.axis('tight')\n",
    "ax.axis('off')\n",
    "\n",
    "table = ax.table(\n",
    "                 cellText = table_data,\n",
    "                 colLabels = column_labels,\n",
    "                 rowLabels = [\"Row A\", \"Row B\", \"Row C\"],\n",
    "                 rowColours = [\"orange\"] * 3,\n",
    "                 colColours = [\"green\"] * 3,\n",
    "                 cellLoc = \"center\",\n",
    "                 loc = \"center\"\n",
    "                )\n",
    "table.set_fontsize(15) # setting the font size of values\n",
    "table.scale(1, 3) # scaling the table (width, length)\n",
    "plt.show()"
   ]
  },
  {
   "cell_type": "code",
   "execution_count": null,
   "id": "2ef5b477",
   "metadata": {},
   "outputs": [],
   "source": [
    "# 3: Table with Pandas DataFrame\n",
    "import pandas as pd\n",
    "import numpy as np\n",
    "import matplotlib.pyplot as plt\n",
    "%matplotlib inline\n",
    "\n",
    "fig, ax = plt.subplots(1, 1) # defining figure & axes\n",
    "\n",
    "table_data = [\n",
    "              [10, 24, 37],\n",
    "              [55, 69, 76],\n",
    "              [84, 96, 108]\n",
    "             ]\n",
    "\n",
    "column_labels = [\"Column 1\", \"Column 2\", \"Column 3\"]\n",
    "\n",
    "df = pd.DataFrame(table_data, columns = column_labels)\n",
    "ax.axis('tight')\n",
    "ax.axis('off')\n",
    "\n",
    "table = ax.table(\n",
    "                 cellText = df.values,\n",
    "                 colLabels = df.columns,\n",
    "                 rowLabels = [\"Row A\", \"Row B\", \"Row C\"],\n",
    "                 rowColours = [\"orange\"] * 3,\n",
    "                 colColours = [\"green\"] * 3,\n",
    "                 cellLoc = \"center\",\n",
    "                 loc = \"center\"\n",
    "                )\n",
    "table.set_fontsize(15) # setting the font size of values\n",
    "table.scale(1, 3) # scaling the table (width, length)\n",
    "plt.show()"
   ]
  }
 ],
 "metadata": {
  "kernelspec": {
   "display_name": "Python 3",
   "language": "python",
   "name": "python3"
  },
  "language_info": {
   "codemirror_mode": {
    "name": "ipython",
    "version": 3
   },
   "file_extension": ".py",
   "mimetype": "text/x-python",
   "name": "python",
   "nbconvert_exporter": "python",
   "pygments_lexer": "ipython3",
   "version": "3.8.8"
  }
 },
 "nbformat": 4,
 "nbformat_minor": 5
}
